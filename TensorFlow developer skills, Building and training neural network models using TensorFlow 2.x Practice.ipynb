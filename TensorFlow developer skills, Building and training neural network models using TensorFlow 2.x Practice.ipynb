{
 "cells": [
  {
   "cell_type": "code",
   "execution_count": 2,
   "id": "3a12c151",
   "metadata": {},
   "outputs": [],
   "source": [
    "import tensorflow as tf\n",
    "from tensorflow import keras"
   ]
  },
  {
   "cell_type": "markdown",
   "id": "f5bf0ec5",
   "metadata": {},
   "source": [
    "\n",
    "# TensorFlow developer skills"
   ]
  },
  {
   "cell_type": "markdown",
   "id": "b2060cff",
   "metadata": {},
   "source": [
    "## Know how to save ML models and check the model file size."
   ]
  },
  {
   "cell_type": "code",
   "execution_count": 21,
   "id": "6bf1e529",
   "metadata": {},
   "outputs": [],
   "source": [
    "# get data\n",
    "(x_train, y_train), (x_test, y_test) = tf.keras.datasets.mnist.load_data()\n",
    "# create ML models by 1000 trainset\n",
    "x_train = x_train[:1000].reshape(-1,28*28)\n",
    "x_test =  x_test[:1000].reshape(-1,28*28)\n",
    "y_train = y_train[:1000]\n",
    "y_test = y_test[:1000]"
   ]
  },
  {
   "cell_type": "code",
   "execution_count": 24,
   "id": "d5dee1b4",
   "metadata": {},
   "outputs": [
    {
     "data": {
      "text/plain": [
       "(1000, 784)"
      ]
     },
     "execution_count": 24,
     "metadata": {},
     "output_type": "execute_result"
    }
   ],
   "source": [
    "x_train.shape"
   ]
  },
  {
   "cell_type": "code",
   "execution_count": 36,
   "id": "ad5867d1",
   "metadata": {},
   "outputs": [
    {
     "name": "stdout",
     "output_type": "stream",
     "text": [
      "Model: \"sequential_5\"\n",
      "_________________________________________________________________\n",
      "Layer (type)                 Output Shape              Param #   \n",
      "=================================================================\n",
      "dense_10 (Dense)             (None, 320)               251200    \n",
      "_________________________________________________________________\n",
      "dense_11 (Dense)             (None, 10)                3210      \n",
      "=================================================================\n",
      "Total params: 254,410\n",
      "Trainable params: 254,410\n",
      "Non-trainable params: 0\n",
      "_________________________________________________________________\n"
     ]
    }
   ],
   "source": [
    "# create model\n",
    "# tf.keras.models.Sequential \n",
    "# arg = [list of layer]\n",
    "# Dense => normal \n",
    "model = tf.keras.models.Sequential([\n",
    "    tf.keras.layers.Dense(320, input_shape=(x_train.shape[1],)),\n",
    "    tf.keras.layers.Dense(10)\n",
    "])\n",
    "# complie training data to model\n",
    "model.compile(optimizer='adam',\n",
    "                loss=tf.losses.SparseCategoricalCrossentropy(from_logits=True),\n",
    "                metrics=[tf.metrics.SparseCategoricalAccuracy()])\n",
    "# model\n",
    "model.summary()"
   ]
  },
  {
   "cell_type": "code",
   "execution_count": 37,
   "id": "511f87ba",
   "metadata": {},
   "outputs": [
    {
     "data": {
      "text/plain": [
       "'./chcekpoint'"
      ]
     },
     "execution_count": 37,
     "metadata": {},
     "output_type": "execute_result"
    }
   ],
   "source": [
    "# fit data to model\n",
    "checkpointPointFilepath = './chcekpoint/checkpoint_1_1.ckpt'\n"
   ]
  },
  {
   "cell_type": "code",
   "execution_count": null,
   "id": "b4f1bd87",
   "metadata": {},
   "outputs": [],
   "source": []
  }
 ],
 "metadata": {
  "kernelspec": {
   "display_name": "Python 3 (ipykernel)",
   "language": "python",
   "name": "python3"
  },
  "language_info": {
   "codemirror_mode": {
    "name": "ipython",
    "version": 3
   },
   "file_extension": ".py",
   "mimetype": "text/x-python",
   "name": "python",
   "nbconvert_exporter": "python",
   "pygments_lexer": "ipython3",
   "version": "3.8.0"
  },
  "toc": {
   "base_numbering": 1,
   "nav_menu": {},
   "number_sections": true,
   "sideBar": true,
   "skip_h1_title": false,
   "title_cell": "Table of Contents",
   "title_sidebar": "Contents",
   "toc_cell": false,
   "toc_position": {},
   "toc_section_display": true,
   "toc_window_display": true
  }
 },
 "nbformat": 4,
 "nbformat_minor": 5
}
